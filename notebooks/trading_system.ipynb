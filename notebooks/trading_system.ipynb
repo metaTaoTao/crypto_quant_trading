{
 "cells": [
  {
   "cell_type": "markdown",
   "id": "257f0503-3095-475f-9d23-53b4809c4f82",
   "metadata": {},
   "source": [
    "### 买入因子的实现"
   ]
  },
  {
   "cell_type": "code",
   "execution_count": null,
   "id": "a2f7b2ed-07ca-4013-8ea5-1cfbb40128e6",
   "metadata": {},
   "outputs": [],
   "source": [
    "from abupy import AbuFactorBuyBreak\n",
    "from abupy import AbuBenchmark\n",
    "# buy_factors 60日向上突破，42日向上突破两个因子\n",
    "buy_factors = [{'xd': 60, 'class': AbuFactorBuyBreak}, \n",
    "               {'xd': 42, 'class': AbuFactorBuyBreak}]\n",
    "benchmark = AbuBenchmark()"
   ]
  },
  {
   "cell_type": "code",
   "execution_count": null,
   "id": "4b3d4a3d-2917-48cd-9b68-1fa1433d77a4",
   "metadata": {},
   "outputs": [],
   "source": []
  },
  {
   "cell_type": "code",
   "execution_count": null,
   "id": "9a4177f8-908c-4dce-97f9-0952e73a7854",
   "metadata": {},
   "outputs": [],
   "source": []
  },
  {
   "cell_type": "code",
   "execution_count": null,
   "id": "5f9d5538-f145-42cd-b8a0-8ededb7a85e7",
   "metadata": {},
   "outputs": [],
   "source": []
  },
  {
   "cell_type": "code",
   "execution_count": null,
   "id": "88985b7c-bd31-40d3-9fc2-3fbecafab25d",
   "metadata": {},
   "outputs": [],
   "source": []
  },
  {
   "cell_type": "code",
   "execution_count": null,
   "id": "a5779cca-daf6-481f-9d4d-927a2eee5ab7",
   "metadata": {},
   "outputs": [],
   "source": []
  },
  {
   "cell_type": "code",
   "execution_count": null,
   "id": "e2a6424f-3e90-48db-911c-29639dcada5c",
   "metadata": {},
   "outputs": [],
   "source": []
  },
  {
   "cell_type": "code",
   "execution_count": null,
   "id": "b4fd7ae7-1989-49ea-919b-12503eb793fc",
   "metadata": {},
   "outputs": [],
   "source": []
  },
  {
   "cell_type": "code",
   "execution_count": null,
   "id": "2477c19e-37ec-4880-a392-3137ee2d4142",
   "metadata": {},
   "outputs": [],
   "source": []
  },
  {
   "cell_type": "code",
   "execution_count": null,
   "id": "2a4818d0-232c-4d9e-82c7-c6b2ddfadb88",
   "metadata": {},
   "outputs": [],
   "source": []
  },
  {
   "cell_type": "code",
   "execution_count": null,
   "id": "24cab7a6-dfe6-4baa-8a21-0a4c02d602a9",
   "metadata": {},
   "outputs": [],
   "source": []
  },
  {
   "cell_type": "code",
   "execution_count": null,
   "id": "c66beaea-6bc8-4730-a5a6-f625b2c442b1",
   "metadata": {},
   "outputs": [],
   "source": []
  },
  {
   "cell_type": "code",
   "execution_count": null,
   "id": "a1c6ca02-5fd8-4d37-adf1-9042f0888e46",
   "metadata": {},
   "outputs": [],
   "source": []
  },
  {
   "cell_type": "code",
   "execution_count": null,
   "id": "d73aa068-3203-4637-a757-5d540c438ae7",
   "metadata": {},
   "outputs": [],
   "source": []
  },
  {
   "cell_type": "code",
   "execution_count": null,
   "id": "f4abc34b-851c-448d-a553-788a903075ff",
   "metadata": {},
   "outputs": [],
   "source": []
  },
  {
   "cell_type": "code",
   "execution_count": null,
   "id": "86f04059-5825-4b4e-904c-a46d9be89434",
   "metadata": {},
   "outputs": [],
   "source": []
  }
 ],
 "metadata": {
  "kernelspec": {
   "display_name": "Python 3 (ipykernel)",
   "language": "python",
   "name": "python3"
  },
  "language_info": {
   "codemirror_mode": {
    "name": "ipython",
    "version": 3
   },
   "file_extension": ".py",
   "mimetype": "text/x-python",
   "name": "python",
   "nbconvert_exporter": "python",
   "pygments_lexer": "ipython3",
   "version": "3.12.1"
  }
 },
 "nbformat": 4,
 "nbformat_minor": 5
}
